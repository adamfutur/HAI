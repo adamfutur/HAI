{
 "cells": [
  {
   "cell_type": "code",
   "execution_count": 1,
   "id": "06441acc-6af9-4cce-8b8b-2344eba1591c",
   "metadata": {},
   "outputs": [
    {
     "name": "stdout",
     "output_type": "stream",
     "text": [
      "DatasetDict({\n",
      "    train: Dataset({\n",
      "        features: ['instruction', 'input', 'output'],\n",
      "        num_rows: 112165\n",
      "    })\n",
      "})\n",
      "{'instruction': \"If you are a doctor, please answer the medical questions based on the patient's description.\", 'input': 'I woke up this morning feeling the whole room is spinning when i was sitting down. I went to the bathroom walking unsteadily, as i tried to focus i feel nauseous. I try to vomit but it wont come out.. After taking panadol and sleep for few hours, i still feel the same.. By the way, if i lay down or sit down, my head do not spin, only when i want to move around then i feel the whole world is spinning.. And it is normal stomach discomfort at the same time? Earlier after i relieved myself, the spinning lessen so i am not sure whether its connected or coincidences.. Thank you doc!', 'output': 'Hi, Thank you for posting your query. The most likely cause for your symptoms is benign paroxysmal positional vertigo (BPPV), a type of peripheral vertigo. In this condition, the most common symptom is dizziness or giddiness, which is made worse with movements. Accompanying nausea and vomiting are common. The condition is due to problem in the ear, and improves in a few days on own. Betahistine tablets would help relieve your symptoms. Doing vestibular rehabilitation or adaptation exercises would prevent the recurrence of these symptoms. An ENT evaluation would also help. I hope it helps. Best wishes, Chat Doctor.'}\n"
     ]
    }
   ],
   "source": [
    "from datasets import load_dataset\n",
    "from datasets import load_dataset\n",
    "\n",
    "# Load the dataset\n",
    "ds = load_dataset(\"lavita/ChatDoctor-HealthCareMagic-100k\")\n",
    "\n",
    "# Explore the dataset\n",
    "print(ds)\n",
    "print(ds['train'][0])  # Print first sample\n",
    "\n",
    "ds = load_dataset(\"lavita/ChatDoctor-HealthCareMagic-100k\")"
   ]
  },
  {
   "cell_type": "code",
   "execution_count": 3,
   "id": "b48555b1-3aab-41a7-9887-3ca0ac26a16f",
   "metadata": {},
   "outputs": [
    {
     "name": "stdout",
     "output_type": "stream",
     "text": [
      "Requirement already satisfied: transformers in c:\\users\\imlou\\anaconda3\\lib\\site-packages (4.49.0)\n",
      "Requirement already satisfied: filelock in c:\\users\\imlou\\anaconda3\\lib\\site-packages (from transformers) (3.13.1)\n",
      "Requirement already satisfied: huggingface-hub<1.0,>=0.26.0 in c:\\users\\imlou\\anaconda3\\lib\\site-packages (from transformers) (0.28.1)\n",
      "Requirement already satisfied: numpy>=1.17 in c:\\users\\imlou\\anaconda3\\lib\\site-packages (from transformers) (1.26.4)\n",
      "Requirement already satisfied: packaging>=20.0 in c:\\users\\imlou\\anaconda3\\lib\\site-packages (from transformers) (23.2)\n",
      "Requirement already satisfied: pyyaml>=5.1 in c:\\users\\imlou\\anaconda3\\lib\\site-packages (from transformers) (6.0.1)\n",
      "Requirement already satisfied: regex!=2019.12.17 in c:\\users\\imlou\\anaconda3\\lib\\site-packages (from transformers) (2023.10.3)\n",
      "Requirement already satisfied: requests in c:\\users\\imlou\\anaconda3\\lib\\site-packages (from transformers) (2.32.2)\n",
      "Requirement already satisfied: tokenizers<0.22,>=0.21 in c:\\users\\imlou\\anaconda3\\lib\\site-packages (from transformers) (0.21.0)\n",
      "Requirement already satisfied: safetensors>=0.4.1 in c:\\users\\imlou\\anaconda3\\lib\\site-packages (from transformers) (0.5.3)\n",
      "Requirement already satisfied: tqdm>=4.27 in c:\\users\\imlou\\anaconda3\\lib\\site-packages (from transformers) (4.66.4)\n",
      "Requirement already satisfied: fsspec>=2023.5.0 in c:\\users\\imlou\\anaconda3\\lib\\site-packages (from huggingface-hub<1.0,>=0.26.0->transformers) (2024.3.1)\n",
      "Requirement already satisfied: typing-extensions>=3.7.4.3 in c:\\users\\imlou\\anaconda3\\lib\\site-packages (from huggingface-hub<1.0,>=0.26.0->transformers) (4.11.0)\n",
      "Requirement already satisfied: colorama in c:\\users\\imlou\\anaconda3\\lib\\site-packages (from tqdm>=4.27->transformers) (0.4.6)\n",
      "Requirement already satisfied: charset-normalizer<4,>=2 in c:\\users\\imlou\\anaconda3\\lib\\site-packages (from requests->transformers) (2.0.4)\n",
      "Requirement already satisfied: idna<4,>=2.5 in c:\\users\\imlou\\anaconda3\\lib\\site-packages (from requests->transformers) (3.7)\n",
      "Requirement already satisfied: urllib3<3,>=1.21.1 in c:\\users\\imlou\\anaconda3\\lib\\site-packages (from requests->transformers) (2.2.2)\n",
      "Requirement already satisfied: certifi>=2017.4.17 in c:\\users\\imlou\\anaconda3\\lib\\site-packages (from requests->transformers) (2024.7.4)\n",
      "Note: you may need to restart the kernel to use updated packages.\n"
     ]
    },
    {
     "ename": "KeyboardInterrupt",
     "evalue": "",
     "output_type": "error",
     "traceback": [
      "\u001b[1;31m---------------------------------------------------------------------------\u001b[0m",
      "\u001b[1;31mKeyboardInterrupt\u001b[0m                         Traceback (most recent call last)",
      "Cell \u001b[1;32mIn[3], line 2\u001b[0m\n\u001b[0;32m      1\u001b[0m get_ipython()\u001b[38;5;241m.\u001b[39mrun_line_magic(\u001b[38;5;124m'\u001b[39m\u001b[38;5;124mpip\u001b[39m\u001b[38;5;124m'\u001b[39m, \u001b[38;5;124m'\u001b[39m\u001b[38;5;124minstall transformers\u001b[39m\u001b[38;5;124m'\u001b[39m)\n\u001b[1;32m----> 2\u001b[0m \u001b[38;5;28;01mfrom\u001b[39;00m \u001b[38;5;21;01mtransformers\u001b[39;00m \u001b[38;5;28;01mimport\u001b[39;00m AutoTokenizer\n\u001b[0;32m      4\u001b[0m \u001b[38;5;66;03m# Choose a pretrained medical NLP model\u001b[39;00m\n\u001b[0;32m      5\u001b[0m tokenizer \u001b[38;5;241m=\u001b[39m AutoTokenizer\u001b[38;5;241m.\u001b[39mfrom_pretrained(\u001b[38;5;124m\"\u001b[39m\u001b[38;5;124mmicrosoft/BiomedNLP-PubMedBERT-base-uncased-abstract\u001b[39m\u001b[38;5;124m\"\u001b[39m)\n",
      "File \u001b[1;32m<frozen importlib._bootstrap>:1412\u001b[0m, in \u001b[0;36m_handle_fromlist\u001b[1;34m(module, fromlist, import_, recursive)\u001b[0m\n",
      "File \u001b[1;32m~\\anaconda3\\Lib\\site-packages\\transformers\\utils\\import_utils.py:1851\u001b[0m, in \u001b[0;36m_LazyModule.__getattr__\u001b[1;34m(self, name)\u001b[0m\n\u001b[0;32m   1849\u001b[0m     value \u001b[38;5;241m=\u001b[39m Placeholder\n\u001b[0;32m   1850\u001b[0m \u001b[38;5;28;01melif\u001b[39;00m name \u001b[38;5;129;01min\u001b[39;00m \u001b[38;5;28mself\u001b[39m\u001b[38;5;241m.\u001b[39m_class_to_module\u001b[38;5;241m.\u001b[39mkeys():\n\u001b[1;32m-> 1851\u001b[0m     module \u001b[38;5;241m=\u001b[39m \u001b[38;5;28mself\u001b[39m\u001b[38;5;241m.\u001b[39m_get_module(\u001b[38;5;28mself\u001b[39m\u001b[38;5;241m.\u001b[39m_class_to_module[name])\n\u001b[0;32m   1852\u001b[0m     value \u001b[38;5;241m=\u001b[39m \u001b[38;5;28mgetattr\u001b[39m(module, name)\n\u001b[0;32m   1853\u001b[0m \u001b[38;5;28;01melif\u001b[39;00m name \u001b[38;5;129;01min\u001b[39;00m \u001b[38;5;28mself\u001b[39m\u001b[38;5;241m.\u001b[39m_modules:\n",
      "File \u001b[1;32m~\\anaconda3\\Lib\\site-packages\\transformers\\utils\\import_utils.py:1863\u001b[0m, in \u001b[0;36m_LazyModule._get_module\u001b[1;34m(self, module_name)\u001b[0m\n\u001b[0;32m   1861\u001b[0m \u001b[38;5;28;01mdef\u001b[39;00m \u001b[38;5;21m_get_module\u001b[39m(\u001b[38;5;28mself\u001b[39m, module_name: \u001b[38;5;28mstr\u001b[39m):\n\u001b[0;32m   1862\u001b[0m     \u001b[38;5;28;01mtry\u001b[39;00m:\n\u001b[1;32m-> 1863\u001b[0m         \u001b[38;5;28;01mreturn\u001b[39;00m importlib\u001b[38;5;241m.\u001b[39mimport_module(\u001b[38;5;124m\"\u001b[39m\u001b[38;5;124m.\u001b[39m\u001b[38;5;124m\"\u001b[39m \u001b[38;5;241m+\u001b[39m module_name, \u001b[38;5;28mself\u001b[39m\u001b[38;5;241m.\u001b[39m\u001b[38;5;18m__name__\u001b[39m)\n\u001b[0;32m   1864\u001b[0m     \u001b[38;5;28;01mexcept\u001b[39;00m \u001b[38;5;167;01mException\u001b[39;00m \u001b[38;5;28;01mas\u001b[39;00m e:\n\u001b[0;32m   1865\u001b[0m         \u001b[38;5;28;01mraise\u001b[39;00m \u001b[38;5;167;01mRuntimeError\u001b[39;00m(\n\u001b[0;32m   1866\u001b[0m             \u001b[38;5;124mf\u001b[39m\u001b[38;5;124m\"\u001b[39m\u001b[38;5;124mFailed to import \u001b[39m\u001b[38;5;132;01m{\u001b[39;00m\u001b[38;5;28mself\u001b[39m\u001b[38;5;241m.\u001b[39m\u001b[38;5;18m__name__\u001b[39m\u001b[38;5;132;01m}\u001b[39;00m\u001b[38;5;124m.\u001b[39m\u001b[38;5;132;01m{\u001b[39;00mmodule_name\u001b[38;5;132;01m}\u001b[39;00m\u001b[38;5;124m because of the following error (look up to see its\u001b[39m\u001b[38;5;124m\"\u001b[39m\n\u001b[0;32m   1867\u001b[0m             \u001b[38;5;124mf\u001b[39m\u001b[38;5;124m\"\u001b[39m\u001b[38;5;124m traceback):\u001b[39m\u001b[38;5;130;01m\\n\u001b[39;00m\u001b[38;5;132;01m{\u001b[39;00me\u001b[38;5;132;01m}\u001b[39;00m\u001b[38;5;124m\"\u001b[39m\n\u001b[0;32m   1868\u001b[0m         ) \u001b[38;5;28;01mfrom\u001b[39;00m \u001b[38;5;21;01me\u001b[39;00m\n",
      "File \u001b[1;32m~\\anaconda3\\Lib\\importlib\\__init__.py:90\u001b[0m, in \u001b[0;36mimport_module\u001b[1;34m(name, package)\u001b[0m\n\u001b[0;32m     88\u001b[0m             \u001b[38;5;28;01mbreak\u001b[39;00m\n\u001b[0;32m     89\u001b[0m         level \u001b[38;5;241m+\u001b[39m\u001b[38;5;241m=\u001b[39m \u001b[38;5;241m1\u001b[39m\n\u001b[1;32m---> 90\u001b[0m \u001b[38;5;28;01mreturn\u001b[39;00m _bootstrap\u001b[38;5;241m.\u001b[39m_gcd_import(name[level:], package, level)\n",
      "File \u001b[1;32m~\\anaconda3\\Lib\\site-packages\\transformers\\models\\__init__.py:15\u001b[0m\n\u001b[0;32m      1\u001b[0m \u001b[38;5;66;03m# Copyright 2020 The HuggingFace Team. All rights reserved.\u001b[39;00m\n\u001b[0;32m      2\u001b[0m \u001b[38;5;66;03m#\u001b[39;00m\n\u001b[0;32m      3\u001b[0m \u001b[38;5;66;03m# Licensed under the Apache License, Version 2.0 (the \"License\");\u001b[39;00m\n\u001b[1;32m   (...)\u001b[0m\n\u001b[0;32m     12\u001b[0m \u001b[38;5;66;03m# See the License for the specific language governing permissions and\u001b[39;00m\n\u001b[0;32m     13\u001b[0m \u001b[38;5;66;03m# limitations under the License.\u001b[39;00m\n\u001b[1;32m---> 15\u001b[0m \u001b[38;5;28;01mfrom\u001b[39;00m \u001b[38;5;21;01m.\u001b[39;00m \u001b[38;5;28;01mimport\u001b[39;00m (\n\u001b[0;32m     16\u001b[0m     albert,\n\u001b[0;32m     17\u001b[0m     align,\n\u001b[0;32m     18\u001b[0m     altclip,\n\u001b[0;32m     19\u001b[0m     aria,\n\u001b[0;32m     20\u001b[0m     audio_spectrogram_transformer,\n\u001b[0;32m     21\u001b[0m     auto,\n\u001b[0;32m     22\u001b[0m     autoformer,\n\u001b[0;32m     23\u001b[0m     bamba,\n\u001b[0;32m     24\u001b[0m     bark,\n\u001b[0;32m     25\u001b[0m     bart,\n\u001b[0;32m     26\u001b[0m     barthez,\n\u001b[0;32m     27\u001b[0m     bartpho,\n\u001b[0;32m     28\u001b[0m     beit,\n\u001b[0;32m     29\u001b[0m     bert,\n\u001b[0;32m     30\u001b[0m     bert_generation,\n\u001b[0;32m     31\u001b[0m     bert_japanese,\n\u001b[0;32m     32\u001b[0m     bertweet,\n\u001b[0;32m     33\u001b[0m     big_bird,\n\u001b[0;32m     34\u001b[0m     bigbird_pegasus,\n\u001b[0;32m     35\u001b[0m     biogpt,\n\u001b[0;32m     36\u001b[0m     bit,\n\u001b[0;32m     37\u001b[0m     blenderbot,\n\u001b[0;32m     38\u001b[0m     blenderbot_small,\n\u001b[0;32m     39\u001b[0m     blip,\n\u001b[0;32m     40\u001b[0m     blip_2,\n\u001b[0;32m     41\u001b[0m     bloom,\n\u001b[0;32m     42\u001b[0m     bridgetower,\n\u001b[0;32m     43\u001b[0m     bros,\n\u001b[0;32m     44\u001b[0m     byt5,\n\u001b[0;32m     45\u001b[0m     camembert,\n\u001b[0;32m     46\u001b[0m     canine,\n\u001b[0;32m     47\u001b[0m     chameleon,\n\u001b[0;32m     48\u001b[0m     chinese_clip,\n\u001b[0;32m     49\u001b[0m     clap,\n\u001b[0;32m     50\u001b[0m     clip,\n\u001b[0;32m     51\u001b[0m     clipseg,\n\u001b[0;32m     52\u001b[0m     clvp,\n\u001b[0;32m     53\u001b[0m     code_llama,\n\u001b[0;32m     54\u001b[0m     codegen,\n\u001b[0;32m     55\u001b[0m     cohere,\n\u001b[0;32m     56\u001b[0m     cohere2,\n\u001b[0;32m     57\u001b[0m     colpali,\n\u001b[0;32m     58\u001b[0m     conditional_detr,\n\u001b[0;32m     59\u001b[0m     convbert,\n\u001b[0;32m     60\u001b[0m     convnext,\n\u001b[0;32m     61\u001b[0m     convnextv2,\n\u001b[0;32m     62\u001b[0m     cpm,\n\u001b[0;32m     63\u001b[0m     cpmant,\n\u001b[0;32m     64\u001b[0m     ctrl,\n\u001b[0;32m     65\u001b[0m     cvt,\n\u001b[0;32m     66\u001b[0m     dab_detr,\n\u001b[0;32m     67\u001b[0m     dac,\n\u001b[0;32m     68\u001b[0m     data2vec,\n\u001b[0;32m     69\u001b[0m     dbrx,\n\u001b[0;32m     70\u001b[0m     deberta,\n\u001b[0;32m     71\u001b[0m     deberta_v2,\n\u001b[0;32m     72\u001b[0m     decision_transformer,\n\u001b[0;32m     73\u001b[0m     deformable_detr,\n\u001b[0;32m     74\u001b[0m     deit,\n\u001b[0;32m     75\u001b[0m     deprecated,\n\u001b[0;32m     76\u001b[0m     depth_anything,\n\u001b[0;32m     77\u001b[0m     depth_pro,\n\u001b[0;32m     78\u001b[0m     detr,\n\u001b[0;32m     79\u001b[0m     dialogpt,\n\u001b[0;32m     80\u001b[0m     diffllama,\n\u001b[0;32m     81\u001b[0m     dinat,\n\u001b[0;32m     82\u001b[0m     dinov2,\n\u001b[0;32m     83\u001b[0m     dinov2_with_registers,\n\u001b[0;32m     84\u001b[0m     distilbert,\n\u001b[0;32m     85\u001b[0m     dit,\n\u001b[0;32m     86\u001b[0m     donut,\n\u001b[0;32m     87\u001b[0m     dpr,\n\u001b[0;32m     88\u001b[0m     dpt,\n\u001b[0;32m     89\u001b[0m     efficientnet,\n\u001b[0;32m     90\u001b[0m     electra,\n\u001b[0;32m     91\u001b[0m     emu3,\n\u001b[0;32m     92\u001b[0m     encodec,\n\u001b[0;32m     93\u001b[0m     encoder_decoder,\n\u001b[0;32m     94\u001b[0m     ernie,\n\u001b[0;32m     95\u001b[0m     esm,\n\u001b[0;32m     96\u001b[0m     falcon,\n\u001b[0;32m     97\u001b[0m     falcon_mamba,\n\u001b[0;32m     98\u001b[0m     fastspeech2_conformer,\n\u001b[0;32m     99\u001b[0m     flaubert,\n\u001b[0;32m    100\u001b[0m     flava,\n\u001b[0;32m    101\u001b[0m     fnet,\n\u001b[0;32m    102\u001b[0m     focalnet,\n\u001b[0;32m    103\u001b[0m     fsmt,\n\u001b[0;32m    104\u001b[0m     funnel,\n\u001b[0;32m    105\u001b[0m     fuyu,\n\u001b[0;32m    106\u001b[0m     gemma,\n\u001b[0;32m    107\u001b[0m     gemma2,\n\u001b[0;32m    108\u001b[0m     git,\n\u001b[0;32m    109\u001b[0m     glm,\n\u001b[0;32m    110\u001b[0m     glpn,\n\u001b[0;32m    111\u001b[0m     got_ocr2,\n\u001b[0;32m    112\u001b[0m     gpt2,\n\u001b[0;32m    113\u001b[0m     gpt_bigcode,\n\u001b[0;32m    114\u001b[0m     gpt_neo,\n\u001b[0;32m    115\u001b[0m     gpt_neox,\n\u001b[0;32m    116\u001b[0m     gpt_neox_japanese,\n\u001b[0;32m    117\u001b[0m     gpt_sw3,\n\u001b[0;32m    118\u001b[0m     gptj,\n\u001b[0;32m    119\u001b[0m     granite,\n\u001b[0;32m    120\u001b[0m     granitemoe,\n\u001b[0;32m    121\u001b[0m     granitemoeshared,\n\u001b[0;32m    122\u001b[0m     grounding_dino,\n\u001b[0;32m    123\u001b[0m     groupvit,\n\u001b[0;32m    124\u001b[0m     helium,\n\u001b[0;32m    125\u001b[0m     herbert,\n\u001b[0;32m    126\u001b[0m     hiera,\n\u001b[0;32m    127\u001b[0m     hubert,\n\u001b[0;32m    128\u001b[0m     ibert,\n\u001b[0;32m    129\u001b[0m     idefics,\n\u001b[0;32m    130\u001b[0m     idefics2,\n\u001b[0;32m    131\u001b[0m     idefics3,\n\u001b[0;32m    132\u001b[0m     ijepa,\n\u001b[0;32m    133\u001b[0m     imagegpt,\n\u001b[0;32m    134\u001b[0m     informer,\n\u001b[0;32m    135\u001b[0m     instructblip,\n\u001b[0;32m    136\u001b[0m     instructblipvideo,\n\u001b[0;32m    137\u001b[0m     jamba,\n\u001b[0;32m    138\u001b[0m     jetmoe,\n\u001b[0;32m    139\u001b[0m     kosmos2,\n\u001b[0;32m    140\u001b[0m     layoutlm,\n\u001b[0;32m    141\u001b[0m     layoutlmv2,\n\u001b[0;32m    142\u001b[0m     layoutlmv3,\n\u001b[0;32m    143\u001b[0m     layoutxlm,\n\u001b[0;32m    144\u001b[0m     led,\n\u001b[0;32m    145\u001b[0m     levit,\n\u001b[0;32m    146\u001b[0m     lilt,\n\u001b[0;32m    147\u001b[0m     llama,\n\u001b[0;32m    148\u001b[0m     llava,\n\u001b[0;32m    149\u001b[0m     llava_next,\n\u001b[0;32m    150\u001b[0m     llava_next_video,\n\u001b[0;32m    151\u001b[0m     llava_onevision,\n\u001b[0;32m    152\u001b[0m     longformer,\n\u001b[0;32m    153\u001b[0m     longt5,\n\u001b[0;32m    154\u001b[0m     luke,\n\u001b[0;32m    155\u001b[0m     lxmert,\n\u001b[0;32m    156\u001b[0m     m2m_100,\n\u001b[0;32m    157\u001b[0m     mamba,\n\u001b[0;32m    158\u001b[0m     mamba2,\n\u001b[0;32m    159\u001b[0m     marian,\n\u001b[0;32m    160\u001b[0m     markuplm,\n\u001b[0;32m    161\u001b[0m     mask2former,\n\u001b[0;32m    162\u001b[0m     maskformer,\n\u001b[0;32m    163\u001b[0m     mbart,\n\u001b[0;32m    164\u001b[0m     mbart50,\n\u001b[0;32m    165\u001b[0m     megatron_bert,\n\u001b[0;32m    166\u001b[0m     megatron_gpt2,\n\u001b[0;32m    167\u001b[0m     mgp_str,\n\u001b[0;32m    168\u001b[0m     mimi,\n\u001b[0;32m    169\u001b[0m     mistral,\n\u001b[0;32m    170\u001b[0m     mixtral,\n\u001b[0;32m    171\u001b[0m     mllama,\n\u001b[0;32m    172\u001b[0m     mluke,\n\u001b[0;32m    173\u001b[0m     mobilebert,\n\u001b[0;32m    174\u001b[0m     mobilenet_v1,\n\u001b[0;32m    175\u001b[0m     mobilenet_v2,\n\u001b[0;32m    176\u001b[0m     mobilevit,\n\u001b[0;32m    177\u001b[0m     mobilevitv2,\n\u001b[0;32m    178\u001b[0m     modernbert,\n\u001b[0;32m    179\u001b[0m     moonshine,\n\u001b[0;32m    180\u001b[0m     moshi,\n\u001b[0;32m    181\u001b[0m     mpnet,\n\u001b[0;32m    182\u001b[0m     mpt,\n\u001b[0;32m    183\u001b[0m     mra,\n\u001b[0;32m    184\u001b[0m     mt5,\n\u001b[0;32m    185\u001b[0m     musicgen,\n\u001b[0;32m    186\u001b[0m     musicgen_melody,\n\u001b[0;32m    187\u001b[0m     mvp,\n\u001b[0;32m    188\u001b[0m     myt5,\n\u001b[0;32m    189\u001b[0m     nemotron,\n\u001b[0;32m    190\u001b[0m     nllb,\n\u001b[0;32m    191\u001b[0m     nllb_moe,\n\u001b[0;32m    192\u001b[0m     nougat,\n\u001b[0;32m    193\u001b[0m     nystromformer,\n\u001b[0;32m    194\u001b[0m     olmo,\n\u001b[0;32m    195\u001b[0m     olmo2,\n\u001b[0;32m    196\u001b[0m     olmoe,\n\u001b[0;32m    197\u001b[0m     omdet_turbo,\n\u001b[0;32m    198\u001b[0m     oneformer,\n\u001b[0;32m    199\u001b[0m     openai,\n\u001b[0;32m    200\u001b[0m     opt,\n\u001b[0;32m    201\u001b[0m     owlv2,\n\u001b[0;32m    202\u001b[0m     owlvit,\n\u001b[0;32m    203\u001b[0m     paligemma,\n\u001b[0;32m    204\u001b[0m     patchtsmixer,\n\u001b[0;32m    205\u001b[0m     patchtst,\n\u001b[0;32m    206\u001b[0m     pegasus,\n\u001b[0;32m    207\u001b[0m     pegasus_x,\n\u001b[0;32m    208\u001b[0m     perceiver,\n\u001b[0;32m    209\u001b[0m     persimmon,\n\u001b[0;32m    210\u001b[0m     phi,\n\u001b[0;32m    211\u001b[0m     phi3,\n\u001b[0;32m    212\u001b[0m     phimoe,\n\u001b[0;32m    213\u001b[0m     phobert,\n\u001b[0;32m    214\u001b[0m     pix2struct,\n\u001b[0;32m    215\u001b[0m     pixtral,\n\u001b[0;32m    216\u001b[0m     plbart,\n\u001b[0;32m    217\u001b[0m     poolformer,\n\u001b[0;32m    218\u001b[0m     pop2piano,\n\u001b[0;32m    219\u001b[0m     prophetnet,\n\u001b[0;32m    220\u001b[0m     pvt,\n\u001b[0;32m    221\u001b[0m     pvt_v2,\n\u001b[0;32m    222\u001b[0m     qwen2,\n\u001b[0;32m    223\u001b[0m     qwen2_5_vl,\n\u001b[0;32m    224\u001b[0m     qwen2_audio,\n\u001b[0;32m    225\u001b[0m     qwen2_moe,\n\u001b[0;32m    226\u001b[0m     qwen2_vl,\n\u001b[0;32m    227\u001b[0m     rag,\n\u001b[0;32m    228\u001b[0m     recurrent_gemma,\n\u001b[0;32m    229\u001b[0m     reformer,\n\u001b[0;32m    230\u001b[0m     regnet,\n\u001b[0;32m    231\u001b[0m     rembert,\n\u001b[0;32m    232\u001b[0m     resnet,\n\u001b[0;32m    233\u001b[0m     roberta,\n\u001b[0;32m    234\u001b[0m     roberta_prelayernorm,\n\u001b[0;32m    235\u001b[0m     roc_bert,\n\u001b[0;32m    236\u001b[0m     roformer,\n\u001b[0;32m    237\u001b[0m     rt_detr,\n\u001b[0;32m    238\u001b[0m     rt_detr_v2,\n\u001b[0;32m    239\u001b[0m     rwkv,\n\u001b[0;32m    240\u001b[0m     sam,\n\u001b[0;32m    241\u001b[0m     seamless_m4t,\n\u001b[0;32m    242\u001b[0m     seamless_m4t_v2,\n\u001b[0;32m    243\u001b[0m     segformer,\n\u001b[0;32m    244\u001b[0m     seggpt,\n\u001b[0;32m    245\u001b[0m     sew,\n\u001b[0;32m    246\u001b[0m     sew_d,\n\u001b[0;32m    247\u001b[0m     siglip,\n\u001b[0;32m    248\u001b[0m     speech_encoder_decoder,\n\u001b[0;32m    249\u001b[0m     speech_to_text,\n\u001b[0;32m    250\u001b[0m     speecht5,\n\u001b[0;32m    251\u001b[0m     splinter,\n\u001b[0;32m    252\u001b[0m     squeezebert,\n\u001b[0;32m    253\u001b[0m     stablelm,\n\u001b[0;32m    254\u001b[0m     starcoder2,\n\u001b[0;32m    255\u001b[0m     superglue,\n\u001b[0;32m    256\u001b[0m     superpoint,\n\u001b[0;32m    257\u001b[0m     swiftformer,\n\u001b[0;32m    258\u001b[0m     swin,\n\u001b[0;32m    259\u001b[0m     swin2sr,\n\u001b[0;32m    260\u001b[0m     swinv2,\n\u001b[0;32m    261\u001b[0m     switch_transformers,\n\u001b[0;32m    262\u001b[0m     t5,\n\u001b[0;32m    263\u001b[0m     table_transformer,\n\u001b[0;32m    264\u001b[0m     tapas,\n\u001b[0;32m    265\u001b[0m     textnet,\n\u001b[0;32m    266\u001b[0m     time_series_transformer,\n\u001b[0;32m    267\u001b[0m     timesformer,\n\u001b[0;32m    268\u001b[0m     timm_backbone,\n\u001b[0;32m    269\u001b[0m     timm_wrapper,\n\u001b[0;32m    270\u001b[0m     trocr,\n\u001b[0;32m    271\u001b[0m     tvp,\n\u001b[0;32m    272\u001b[0m     udop,\n\u001b[0;32m    273\u001b[0m     umt5,\n\u001b[0;32m    274\u001b[0m     unispeech,\n\u001b[0;32m    275\u001b[0m     unispeech_sat,\n\u001b[0;32m    276\u001b[0m     univnet,\n\u001b[0;32m    277\u001b[0m     upernet,\n\u001b[0;32m    278\u001b[0m     video_llava,\n\u001b[0;32m    279\u001b[0m     videomae,\n\u001b[0;32m    280\u001b[0m     vilt,\n\u001b[0;32m    281\u001b[0m     vipllava,\n\u001b[0;32m    282\u001b[0m     vision_encoder_decoder,\n\u001b[0;32m    283\u001b[0m     vision_text_dual_encoder,\n\u001b[0;32m    284\u001b[0m     visual_bert,\n\u001b[0;32m    285\u001b[0m     vit,\n\u001b[0;32m    286\u001b[0m     vit_mae,\n\u001b[0;32m    287\u001b[0m     vit_msn,\n\u001b[0;32m    288\u001b[0m     vitdet,\n\u001b[0;32m    289\u001b[0m     vitmatte,\n\u001b[0;32m    290\u001b[0m     vitpose,\n\u001b[0;32m    291\u001b[0m     vitpose_backbone,\n\u001b[0;32m    292\u001b[0m     vits,\n\u001b[0;32m    293\u001b[0m     vivit,\n\u001b[0;32m    294\u001b[0m     wav2vec2,\n\u001b[0;32m    295\u001b[0m     wav2vec2_bert,\n\u001b[0;32m    296\u001b[0m     wav2vec2_conformer,\n\u001b[0;32m    297\u001b[0m     wav2vec2_phoneme,\n\u001b[0;32m    298\u001b[0m     wav2vec2_with_lm,\n\u001b[0;32m    299\u001b[0m     wavlm,\n\u001b[0;32m    300\u001b[0m     whisper,\n\u001b[0;32m    301\u001b[0m     x_clip,\n\u001b[0;32m    302\u001b[0m     xglm,\n\u001b[0;32m    303\u001b[0m     xlm,\n\u001b[0;32m    304\u001b[0m     xlm_roberta,\n\u001b[0;32m    305\u001b[0m     xlm_roberta_xl,\n\u001b[0;32m    306\u001b[0m     xlnet,\n\u001b[0;32m    307\u001b[0m     xmod,\n\u001b[0;32m    308\u001b[0m     yolos,\n\u001b[0;32m    309\u001b[0m     yoso,\n\u001b[0;32m    310\u001b[0m     zamba,\n\u001b[0;32m    311\u001b[0m     zamba2,\n\u001b[0;32m    312\u001b[0m     zoedepth,\n\u001b[0;32m    313\u001b[0m )\n",
      "File \u001b[1;32m~\\anaconda3\\Lib\\site-packages\\transformers\\models\\deberta_v2\\__init__.py:30\u001b[0m\n\u001b[0;32m     27\u001b[0m \u001b[38;5;28;01mimport\u001b[39;00m \u001b[38;5;21;01msys\u001b[39;00m\n\u001b[0;32m     29\u001b[0m _file \u001b[38;5;241m=\u001b[39m \u001b[38;5;28mglobals\u001b[39m()[\u001b[38;5;124m\"\u001b[39m\u001b[38;5;124m__file__\u001b[39m\u001b[38;5;124m\"\u001b[39m]\n\u001b[1;32m---> 30\u001b[0m sys\u001b[38;5;241m.\u001b[39mmodules[\u001b[38;5;18m__name__\u001b[39m] \u001b[38;5;241m=\u001b[39m _LazyModule(\u001b[38;5;18m__name__\u001b[39m, _file, define_import_structure(_file), module_spec\u001b[38;5;241m=\u001b[39m__spec__)\n",
      "File \u001b[1;32m~\\anaconda3\\Lib\\site-packages\\transformers\\utils\\import_utils.py:2287\u001b[0m, in \u001b[0;36mdefine_import_structure\u001b[1;34m(module_path)\u001b[0m\n\u001b[0;32m   2266\u001b[0m \u001b[38;5;28;01mdef\u001b[39;00m \u001b[38;5;21mdefine_import_structure\u001b[39m(module_path: \u001b[38;5;28mstr\u001b[39m) \u001b[38;5;241m-\u001b[39m\u001b[38;5;241m>\u001b[39m IMPORT_STRUCTURE_T:\n\u001b[0;32m   2267\u001b[0m \u001b[38;5;250m    \u001b[39m\u001b[38;5;124;03m\"\"\"\u001b[39;00m\n\u001b[0;32m   2268\u001b[0m \u001b[38;5;124;03m    This method takes a module_path as input and creates an import structure digestible by a _LazyModule.\u001b[39;00m\n\u001b[0;32m   2269\u001b[0m \n\u001b[1;32m   (...)\u001b[0m\n\u001b[0;32m   2285\u001b[0m \u001b[38;5;124;03m    The import structure is a dict defined with frozensets as keys, and dicts of strings to sets of objects.\u001b[39;00m\n\u001b[0;32m   2286\u001b[0m \u001b[38;5;124;03m    \"\"\"\u001b[39;00m\n\u001b[1;32m-> 2287\u001b[0m     import_structure \u001b[38;5;241m=\u001b[39m create_import_structure_from_path(module_path)\n\u001b[0;32m   2288\u001b[0m     \u001b[38;5;28;01mreturn\u001b[39;00m spread_import_structure(import_structure)\n",
      "File \u001b[1;32m~\\anaconda3\\Lib\\site-packages\\transformers\\utils\\import_utils.py:2058\u001b[0m, in \u001b[0;36mcreate_import_structure_from_path\u001b[1;34m(module_path)\u001b[0m\n\u001b[0;32m   2055\u001b[0m     \u001b[38;5;28;01mcontinue\u001b[39;00m\n\u001b[0;32m   2057\u001b[0m \u001b[38;5;28;01mwith\u001b[39;00m \u001b[38;5;28mopen\u001b[39m(os\u001b[38;5;241m.\u001b[39mpath\u001b[38;5;241m.\u001b[39mjoin(directory, module_name), encoding\u001b[38;5;241m=\u001b[39m\u001b[38;5;124m\"\u001b[39m\u001b[38;5;124mutf-8\u001b[39m\u001b[38;5;124m\"\u001b[39m) \u001b[38;5;28;01mas\u001b[39;00m f:\n\u001b[1;32m-> 2058\u001b[0m     file_content \u001b[38;5;241m=\u001b[39m f\u001b[38;5;241m.\u001b[39mread()\n\u001b[0;32m   2060\u001b[0m \u001b[38;5;66;03m# Remove the .py suffix\u001b[39;00m\n\u001b[0;32m   2061\u001b[0m module_name \u001b[38;5;241m=\u001b[39m module_name[:\u001b[38;5;241m-\u001b[39m\u001b[38;5;241m3\u001b[39m]\n",
      "File \u001b[1;32m<frozen codecs>:319\u001b[0m, in \u001b[0;36mdecode\u001b[1;34m(self, input, final)\u001b[0m\n",
      "\u001b[1;31mKeyboardInterrupt\u001b[0m: "
     ]
    }
   ],
   "source": [
    "%pip install transformers\n",
    "from transformers import AutoTokenizer\n",
    "\n",
    "# Choose a pretrained medical NLP model\n",
    "tokenizer = AutoTokenizer.from_pretrained(\"microsoft/BiomedNLP-PubMedBERT-base-uncased-abstract\")\n",
    "\n",
    "# Tokenize the dataset\n",
    "def tokenize_function(example):\n",
    "    return tokenizer(example[\"input\"], truncation=True, padding=\"max_length\", max_length=512)\n",
    "\n",
    "# Apply tokenization\n",
    "tokenized_ds = ds.map(tokenize_function, batched=True)\n",
    "\n",
    "\n",
    "# Apply tokenization\n",
    "tokenized_ds = ds.map(tokenize_function, batched=True)\n"
   ]
  },
  {
   "cell_type": "code",
   "execution_count": 10,
   "id": "36808484-28ca-4698-9668-8ca9fda912a6",
   "metadata": {},
   "outputs": [
    {
     "name": "stdout",
     "output_type": "stream",
     "text": [
      "2.6.0+cpu\n"
     ]
    },
    {
     "ename": "ImportError",
     "evalue": "Using the `Trainer` with `PyTorch` requires `accelerate>=0.26.0`: Please run `pip install transformers[torch]` or `pip install 'accelerate>=0.26.0'`",
     "output_type": "error",
     "traceback": [
      "\u001b[1;31m---------------------------------------------------------------------------\u001b[0m",
      "\u001b[1;31mImportError\u001b[0m                               Traceback (most recent call last)",
      "Cell \u001b[1;32mIn[10], line 16\u001b[0m\n\u001b[0;32m     13\u001b[0m model \u001b[38;5;241m=\u001b[39m AutoModel\u001b[38;5;241m.\u001b[39mfrom_pretrained(model_name)\n\u001b[0;32m     15\u001b[0m \u001b[38;5;66;03m# Define training arguments\u001b[39;00m\n\u001b[1;32m---> 16\u001b[0m training_args \u001b[38;5;241m=\u001b[39m TrainingArguments(\n\u001b[0;32m     17\u001b[0m     output_dir\u001b[38;5;241m=\u001b[39m\u001b[38;5;124m\"\u001b[39m\u001b[38;5;124m./results\u001b[39m\u001b[38;5;124m\"\u001b[39m,\n\u001b[0;32m     18\u001b[0m     evaluation_strategy\u001b[38;5;241m=\u001b[39m\u001b[38;5;124m\"\u001b[39m\u001b[38;5;124mepoch\u001b[39m\u001b[38;5;124m\"\u001b[39m,\n\u001b[0;32m     19\u001b[0m     save_strategy\u001b[38;5;241m=\u001b[39m\u001b[38;5;124m\"\u001b[39m\u001b[38;5;124mepoch\u001b[39m\u001b[38;5;124m\"\u001b[39m,\n\u001b[0;32m     20\u001b[0m     per_device_train_batch_size\u001b[38;5;241m=\u001b[39m\u001b[38;5;241m8\u001b[39m,\n\u001b[0;32m     21\u001b[0m     per_device_eval_batch_size\u001b[38;5;241m=\u001b[39m\u001b[38;5;241m8\u001b[39m,\n\u001b[0;32m     22\u001b[0m     num_train_epochs\u001b[38;5;241m=\u001b[39m\u001b[38;5;241m3\u001b[39m,\n\u001b[0;32m     23\u001b[0m     weight_decay\u001b[38;5;241m=\u001b[39m\u001b[38;5;241m0.01\u001b[39m,\n\u001b[0;32m     24\u001b[0m     logging_dir\u001b[38;5;241m=\u001b[39m\u001b[38;5;124m\"\u001b[39m\u001b[38;5;124m./logs\u001b[39m\u001b[38;5;124m\"\u001b[39m\n\u001b[0;32m     25\u001b[0m )\n\u001b[0;32m     27\u001b[0m \u001b[38;5;66;03m# Trainer setup\u001b[39;00m\n\u001b[0;32m     28\u001b[0m trainer \u001b[38;5;241m=\u001b[39m Trainer(\n\u001b[0;32m     29\u001b[0m     model\u001b[38;5;241m=\u001b[39mmodel,\n\u001b[0;32m     30\u001b[0m     args\u001b[38;5;241m=\u001b[39mtraining_args,\n\u001b[0;32m     31\u001b[0m     train_dataset\u001b[38;5;241m=\u001b[39mtokenized_ds[\u001b[38;5;124m\"\u001b[39m\u001b[38;5;124mtrain\u001b[39m\u001b[38;5;124m\"\u001b[39m],\n\u001b[0;32m     32\u001b[0m     eval_dataset\u001b[38;5;241m=\u001b[39mtokenized_ds[\u001b[38;5;124m\"\u001b[39m\u001b[38;5;124mtest\u001b[39m\u001b[38;5;124m\"\u001b[39m]\n\u001b[0;32m     33\u001b[0m )\n",
      "File \u001b[1;32m<string>:134\u001b[0m, in \u001b[0;36m__init__\u001b[1;34m(self, output_dir, overwrite_output_dir, do_train, do_eval, do_predict, eval_strategy, prediction_loss_only, per_device_train_batch_size, per_device_eval_batch_size, per_gpu_train_batch_size, per_gpu_eval_batch_size, gradient_accumulation_steps, eval_accumulation_steps, eval_delay, torch_empty_cache_steps, learning_rate, weight_decay, adam_beta1, adam_beta2, adam_epsilon, max_grad_norm, num_train_epochs, max_steps, lr_scheduler_type, lr_scheduler_kwargs, warmup_ratio, warmup_steps, log_level, log_level_replica, log_on_each_node, logging_dir, logging_strategy, logging_first_step, logging_steps, logging_nan_inf_filter, save_strategy, save_steps, save_total_limit, save_safetensors, save_on_each_node, save_only_model, restore_callback_states_from_checkpoint, no_cuda, use_cpu, use_mps_device, seed, data_seed, jit_mode_eval, use_ipex, bf16, fp16, fp16_opt_level, half_precision_backend, bf16_full_eval, fp16_full_eval, tf32, local_rank, ddp_backend, tpu_num_cores, tpu_metrics_debug, debug, dataloader_drop_last, eval_steps, dataloader_num_workers, dataloader_prefetch_factor, past_index, run_name, disable_tqdm, remove_unused_columns, label_names, load_best_model_at_end, metric_for_best_model, greater_is_better, ignore_data_skip, fsdp, fsdp_min_num_params, fsdp_config, fsdp_transformer_layer_cls_to_wrap, accelerator_config, deepspeed, label_smoothing_factor, optim, optim_args, adafactor, group_by_length, length_column_name, report_to, ddp_find_unused_parameters, ddp_bucket_cap_mb, ddp_broadcast_buffers, dataloader_pin_memory, dataloader_persistent_workers, skip_memory_metrics, use_legacy_prediction_loop, push_to_hub, resume_from_checkpoint, hub_model_id, hub_strategy, hub_token, hub_private_repo, hub_always_push, gradient_checkpointing, gradient_checkpointing_kwargs, include_inputs_for_metrics, include_for_metrics, eval_do_concat_batches, fp16_backend, evaluation_strategy, push_to_hub_model_id, push_to_hub_organization, push_to_hub_token, mp_parameters, auto_find_batch_size, full_determinism, torchdynamo, ray_scope, ddp_timeout, torch_compile, torch_compile_backend, torch_compile_mode, dispatch_batches, split_batches, include_tokens_per_second, include_num_input_tokens_seen, neftune_noise_alpha, optim_target_modules, batch_eval_metrics, eval_on_start, use_liger_kernel, eval_use_gather_object, average_tokens_across_devices)\u001b[0m\n",
      "File \u001b[1;32m~\\anaconda3\\Lib\\site-packages\\transformers\\training_args.py:1791\u001b[0m, in \u001b[0;36mTrainingArguments.__post_init__\u001b[1;34m(self)\u001b[0m\n\u001b[0;32m   1789\u001b[0m \u001b[38;5;66;03m# Initialize device before we proceed\u001b[39;00m\n\u001b[0;32m   1790\u001b[0m \u001b[38;5;28;01mif\u001b[39;00m \u001b[38;5;28mself\u001b[39m\u001b[38;5;241m.\u001b[39mframework \u001b[38;5;241m==\u001b[39m \u001b[38;5;124m\"\u001b[39m\u001b[38;5;124mpt\u001b[39m\u001b[38;5;124m\"\u001b[39m \u001b[38;5;129;01mand\u001b[39;00m is_torch_available():\n\u001b[1;32m-> 1791\u001b[0m     \u001b[38;5;28mself\u001b[39m\u001b[38;5;241m.\u001b[39mdevice\n\u001b[0;32m   1793\u001b[0m \u001b[38;5;66;03m# Disable average tokens when using single device\u001b[39;00m\n\u001b[0;32m   1794\u001b[0m \u001b[38;5;28;01mif\u001b[39;00m \u001b[38;5;28mself\u001b[39m\u001b[38;5;241m.\u001b[39maverage_tokens_across_devices:\n",
      "File \u001b[1;32m~\\anaconda3\\Lib\\site-packages\\transformers\\training_args.py:2313\u001b[0m, in \u001b[0;36mTrainingArguments.device\u001b[1;34m(self)\u001b[0m\n\u001b[0;32m   2309\u001b[0m \u001b[38;5;250m\u001b[39m\u001b[38;5;124;03m\"\"\"\u001b[39;00m\n\u001b[0;32m   2310\u001b[0m \u001b[38;5;124;03mThe device used by this process.\u001b[39;00m\n\u001b[0;32m   2311\u001b[0m \u001b[38;5;124;03m\"\"\"\u001b[39;00m\n\u001b[0;32m   2312\u001b[0m requires_backends(\u001b[38;5;28mself\u001b[39m, [\u001b[38;5;124m\"\u001b[39m\u001b[38;5;124mtorch\u001b[39m\u001b[38;5;124m\"\u001b[39m])\n\u001b[1;32m-> 2313\u001b[0m \u001b[38;5;28;01mreturn\u001b[39;00m \u001b[38;5;28mself\u001b[39m\u001b[38;5;241m.\u001b[39m_setup_devices\n",
      "File \u001b[1;32m~\\anaconda3\\Lib\\site-packages\\transformers\\utils\\generic.py:62\u001b[0m, in \u001b[0;36mcached_property.__get__\u001b[1;34m(self, obj, objtype)\u001b[0m\n\u001b[0;32m     60\u001b[0m cached \u001b[38;5;241m=\u001b[39m \u001b[38;5;28mgetattr\u001b[39m(obj, attr, \u001b[38;5;28;01mNone\u001b[39;00m)\n\u001b[0;32m     61\u001b[0m \u001b[38;5;28;01mif\u001b[39;00m cached \u001b[38;5;129;01mis\u001b[39;00m \u001b[38;5;28;01mNone\u001b[39;00m:\n\u001b[1;32m---> 62\u001b[0m     cached \u001b[38;5;241m=\u001b[39m \u001b[38;5;28mself\u001b[39m\u001b[38;5;241m.\u001b[39mfget(obj)\n\u001b[0;32m     63\u001b[0m     \u001b[38;5;28msetattr\u001b[39m(obj, attr, cached)\n\u001b[0;32m     64\u001b[0m \u001b[38;5;28;01mreturn\u001b[39;00m cached\n",
      "File \u001b[1;32m~\\anaconda3\\Lib\\site-packages\\transformers\\training_args.py:2186\u001b[0m, in \u001b[0;36mTrainingArguments._setup_devices\u001b[1;34m(self)\u001b[0m\n\u001b[0;32m   2184\u001b[0m \u001b[38;5;28;01mif\u001b[39;00m \u001b[38;5;129;01mnot\u001b[39;00m is_sagemaker_mp_enabled():\n\u001b[0;32m   2185\u001b[0m     \u001b[38;5;28;01mif\u001b[39;00m \u001b[38;5;129;01mnot\u001b[39;00m is_accelerate_available():\n\u001b[1;32m-> 2186\u001b[0m         \u001b[38;5;28;01mraise\u001b[39;00m \u001b[38;5;167;01mImportError\u001b[39;00m(\n\u001b[0;32m   2187\u001b[0m             \u001b[38;5;124mf\u001b[39m\u001b[38;5;124m\"\u001b[39m\u001b[38;5;124mUsing the `Trainer` with `PyTorch` requires `accelerate>=\u001b[39m\u001b[38;5;132;01m{\u001b[39;00mACCELERATE_MIN_VERSION\u001b[38;5;132;01m}\u001b[39;00m\u001b[38;5;124m`: \u001b[39m\u001b[38;5;124m\"\u001b[39m\n\u001b[0;32m   2188\u001b[0m             \u001b[38;5;124mf\u001b[39m\u001b[38;5;124m\"\u001b[39m\u001b[38;5;124mPlease run `pip install transformers[torch]` or `pip install \u001b[39m\u001b[38;5;124m'\u001b[39m\u001b[38;5;124maccelerate>=\u001b[39m\u001b[38;5;132;01m{\u001b[39;00mACCELERATE_MIN_VERSION\u001b[38;5;132;01m}\u001b[39;00m\u001b[38;5;124m'\u001b[39m\u001b[38;5;124m`\u001b[39m\u001b[38;5;124m\"\u001b[39m\n\u001b[0;32m   2189\u001b[0m         )\n\u001b[0;32m   2190\u001b[0m \u001b[38;5;66;03m# We delay the init of `PartialState` to the end for clarity\u001b[39;00m\n\u001b[0;32m   2191\u001b[0m accelerator_state_kwargs \u001b[38;5;241m=\u001b[39m {\u001b[38;5;124m\"\u001b[39m\u001b[38;5;124menabled\u001b[39m\u001b[38;5;124m\"\u001b[39m: \u001b[38;5;28;01mTrue\u001b[39;00m, \u001b[38;5;124m\"\u001b[39m\u001b[38;5;124muse_configured_state\u001b[39m\u001b[38;5;124m\"\u001b[39m: \u001b[38;5;28;01mFalse\u001b[39;00m}\n",
      "\u001b[1;31mImportError\u001b[0m: Using the `Trainer` with `PyTorch` requires `accelerate>=0.26.0`: Please run `pip install transformers[torch]` or `pip install 'accelerate>=0.26.0'`"
     ]
    }
   ],
   "source": [
    "import torch\n",
    "print(torch.__version__)  # Should print the installed version\n",
    "\n",
    "from transformers import AutoModelForSeq2SeqLM, TrainingArguments, Trainer\n",
    "\n",
    "# Load a pre-trained transformer model for text generation\n",
    "from transformers import AutoModel, AutoTokenizer\n",
    "\n",
    "model_name = \"microsoft/BiomedNLP-BiomedBERT-base-uncased-abstract\"\n",
    "\n",
    "# Load model and tokenizer\n",
    "tokenizer = AutoTokenizer.from_pretrained(model_name)\n",
    "model = AutoModel.from_pretrained(model_name)\n",
    "\n",
    "# Define training arguments\n",
    "training_args = TrainingArguments(\n",
    "    output_dir=\"./results\",\n",
    "    evaluation_strategy=\"epoch\",\n",
    "    save_strategy=\"epoch\",\n",
    "    per_device_train_batch_size=8,\n",
    "    per_device_eval_batch_size=8,\n",
    "    num_train_epochs=3,\n",
    "    weight_decay=0.01,\n",
    "    logging_dir=\"./logs\"\n",
    ")\n",
    "\n",
    "# Trainer setup\n",
    "trainer = Trainer(\n",
    "    model=model,\n",
    "    args=training_args,\n",
    "    train_dataset=tokenized_ds[\"train\"],\n",
    "    eval_dataset=tokenized_ds[\"test\"]\n",
    ")\n",
    "\n",
    "# Train the model\n",
    "trainer.train()\n"
   ]
  },
  {
   "cell_type": "code",
   "execution_count": null,
   "id": "c6a844d9-a749-4df7-9078-e7cb72e36f2a",
   "metadata": {},
   "outputs": [],
   "source": [
    "def generate_response(question):\n",
    "    inputs = tokenizer(question, return_tensors=\"pt\", truncation=True, padding=\"max_length\", max_length=512)\n",
    "    outputs = model.generate(**inputs, max_length=200)\n",
    "    return tokenizer.decode(outputs[0], skip_special_tokens=True)\n",
    "\n",
    "# Example prediction\n",
    "question = \"What are the symptoms of diabetes?\"\n",
    "response = generate_response(question)\n",
    "print(\"Chatbot Response:\", response)\n"
   ]
  },
  {
   "cell_type": "code",
   "execution_count": 8,
   "id": "b12c343f-11e2-4f9a-9f59-c2fd89dbb3c0",
   "metadata": {},
   "outputs": [
    {
     "name": "stdout",
     "output_type": "stream",
     "text": [
      "Requirement already satisfied: transformers[torch] in c:\\users\\imlou\\anaconda3\\lib\\site-packages (4.49.0)Note: you may need to restart the kernel to use updated packages.\n",
      "\n",
      "Requirement already satisfied: filelock in c:\\users\\imlou\\anaconda3\\lib\\site-packages (from transformers[torch]) (3.13.1)\n",
      "Requirement already satisfied: huggingface-hub<1.0,>=0.26.0 in c:\\users\\imlou\\anaconda3\\lib\\site-packages (from transformers[torch]) (0.28.1)\n",
      "Requirement already satisfied: numpy>=1.17 in c:\\users\\imlou\\anaconda3\\lib\\site-packages (from transformers[torch]) (1.26.4)\n",
      "Requirement already satisfied: packaging>=20.0 in c:\\users\\imlou\\anaconda3\\lib\\site-packages (from transformers[torch]) (23.2)\n",
      "Requirement already satisfied: pyyaml>=5.1 in c:\\users\\imlou\\anaconda3\\lib\\site-packages (from transformers[torch]) (6.0.1)\n",
      "Requirement already satisfied: regex!=2019.12.17 in c:\\users\\imlou\\anaconda3\\lib\\site-packages (from transformers[torch]) (2023.10.3)\n",
      "Requirement already satisfied: requests in c:\\users\\imlou\\anaconda3\\lib\\site-packages (from transformers[torch]) (2.32.2)\n",
      "Requirement already satisfied: tokenizers<0.22,>=0.21 in c:\\users\\imlou\\anaconda3\\lib\\site-packages (from transformers[torch]) (0.21.0)\n",
      "Requirement already satisfied: safetensors>=0.4.1 in c:\\users\\imlou\\anaconda3\\lib\\site-packages (from transformers[torch]) (0.5.3)\n",
      "Requirement already satisfied: tqdm>=4.27 in c:\\users\\imlou\\anaconda3\\lib\\site-packages (from transformers[torch]) (4.66.4)\n",
      "Requirement already satisfied: torch>=2.0 in c:\\users\\imlou\\anaconda3\\lib\\site-packages (from transformers[torch]) (2.6.0+cpu)\n",
      "Collecting accelerate>=0.26.0 (from transformers[torch])\n",
      "  Using cached accelerate-1.4.0-py3-none-any.whl.metadata (19 kB)\n",
      "Requirement already satisfied: psutil in c:\\users\\imlou\\anaconda3\\lib\\site-packages (from accelerate>=0.26.0->transformers[torch]) (5.9.0)\n",
      "Requirement already satisfied: fsspec>=2023.5.0 in c:\\users\\imlou\\anaconda3\\lib\\site-packages (from huggingface-hub<1.0,>=0.26.0->transformers[torch]) (2024.3.1)\n",
      "Requirement already satisfied: typing-extensions>=3.7.4.3 in c:\\users\\imlou\\anaconda3\\lib\\site-packages (from huggingface-hub<1.0,>=0.26.0->transformers[torch]) (4.11.0)\n",
      "Requirement already satisfied: networkx in c:\\users\\imlou\\anaconda3\\lib\\site-packages (from torch>=2.0->transformers[torch]) (3.2.1)\n",
      "Requirement already satisfied: jinja2 in c:\\users\\imlou\\anaconda3\\lib\\site-packages (from torch>=2.0->transformers[torch]) (3.1.4)\n",
      "Requirement already satisfied: setuptools in c:\\users\\imlou\\anaconda3\\lib\\site-packages (from torch>=2.0->transformers[torch]) (69.5.1)\n",
      "Requirement already satisfied: sympy==1.13.1 in c:\\users\\imlou\\anaconda3\\lib\\site-packages (from torch>=2.0->transformers[torch]) (1.13.1)\n",
      "Requirement already satisfied: mpmath<1.4,>=1.1.0 in c:\\users\\imlou\\anaconda3\\lib\\site-packages (from sympy==1.13.1->torch>=2.0->transformers[torch]) (1.3.0)\n",
      "Requirement already satisfied: colorama in c:\\users\\imlou\\anaconda3\\lib\\site-packages (from tqdm>=4.27->transformers[torch]) (0.4.6)\n",
      "Requirement already satisfied: charset-normalizer<4,>=2 in c:\\users\\imlou\\anaconda3\\lib\\site-packages (from requests->transformers[torch]) (2.0.4)\n",
      "Requirement already satisfied: idna<4,>=2.5 in c:\\users\\imlou\\anaconda3\\lib\\site-packages (from requests->transformers[torch]) (3.7)\n",
      "Requirement already satisfied: urllib3<3,>=1.21.1 in c:\\users\\imlou\\anaconda3\\lib\\site-packages (from requests->transformers[torch]) (2.2.2)\n",
      "Requirement already satisfied: certifi>=2017.4.17 in c:\\users\\imlou\\anaconda3\\lib\\site-packages (from requests->transformers[torch]) (2024.7.4)\n",
      "Requirement already satisfied: MarkupSafe>=2.0 in c:\\users\\imlou\\anaconda3\\lib\\site-packages (from jinja2->torch>=2.0->transformers[torch]) (2.1.3)\n",
      "Using cached accelerate-1.4.0-py3-none-any.whl (342 kB)\n",
      "Installing collected packages: accelerate\n",
      "Successfully installed accelerate-1.4.0\n"
     ]
    }
   ],
   "source": [
    "%pip install transformers[torch]"
   ]
  },
  {
   "cell_type": "code",
   "execution_count": 12,
   "id": "fbcb1f2d-d005-4787-914f-f1527906c1aa",
   "metadata": {},
   "outputs": [
    {
     "name": "stdout",
     "output_type": "stream",
     "text": [
      "Note: you may need to restart the kernel to use updated packages.\n"
     ]
    },
    {
     "name": "stderr",
     "output_type": "stream",
     "text": [
      "ERROR: Invalid requirement: \"'accelerate\"\n"
     ]
    }
   ],
   "source": [
    "%pip install 'accelerate>=0.26.0'"
   ]
  },
  {
   "cell_type": "code",
   "execution_count": null,
   "id": "4833f479-63ea-4201-b1b7-e604d66a7489",
   "metadata": {},
   "outputs": [],
   "source": []
  }
 ],
 "metadata": {
  "kernelspec": {
   "display_name": "Python 3 (ipykernel)",
   "language": "python",
   "name": "python3"
  },
  "language_info": {
   "codemirror_mode": {
    "name": "ipython",
    "version": 3
   },
   "file_extension": ".py",
   "mimetype": "text/x-python",
   "name": "python",
   "nbconvert_exporter": "python",
   "pygments_lexer": "ipython3",
   "version": "3.12.4"
  }
 },
 "nbformat": 4,
 "nbformat_minor": 5
}
